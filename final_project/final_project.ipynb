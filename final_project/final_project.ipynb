{
 "cells": [
  {
   "cell_type": "markdown",
   "id": "70cb06b4-f58d-46e0-8f71-b616bcc0512d",
   "metadata": {
    "tags": []
   },
   "source": [
    "# Final Project\n",
    "\n",
    "**Group HOMEWORK**. This final project can be collaborative. The maximum members of a group is 2. You can also work by yourself. Please respect the academic integrity. **Remember: if you get caught on cheating, you get F.**\n",
    "\n",
    "## A Introduction to the competition\n",
    "\n",
    "<img src=\"news-sexisme-EN.jpg\" alt=\"drawing\" width=\"380\"/>\n",
    "\n",
    "Sexism is a growing problem online. It can inflict harm on women who are targeted, make online spaces inaccessible and unwelcoming, and perpetuate social asymmetries and injustices. Automated tools are now widely deployed to find, and assess sexist content at scale but most only give classifications for generic, high-level categories, with no further explanation. Flagging what is sexist content and also explaining why it is sexist improves interpretability, trust and understanding of the decisions that automated tools use, empowering both users and moderators.\n",
    "\n",
    "This project is based on SemEval 2023 - Task 10 - Explainable Detection of Online Sexism (EDOS). [Here](https://codalab.lisn.upsaclay.fr/competitions/7124#learn_the_details-overview) you can find a detailed introduction to this task.\n",
    "\n",
    "You only need to complete **TASK A - Binary Sexism Detection: a two-class (or binary) classification where systems have to predict whether a post is sexist or not sexist**. To cut down training time, we only use a subset of the original dataset (5k out of 20k). The dataset can be found in the same folder. \n",
    "\n",
    "Different from our previous homework, this competition gives you great flexibility (and very few hints), you can determine: \n",
    "-  how to preprocess the input text (e.g., remove emoji, remove stopwords, text lemmatization and stemming, etc.);\n",
    "-  which method to use to encode text features (e.g., TF-IDF, N-grams, Word2vec, GloVe, Part-of-Speech (POS), etc.);\n",
    "-  which model to use.\n",
    "\n",
    "## Requirements\n",
    "-  **Input**: the text for each instance.\n",
    "-  **Output**: the binary label for each instance.\n",
    "-  **Feature engineering**: use at least 2 different methods to extract features and encode text into numerical values.\n",
    "-  **Model selection**: implement with at least 3 different models and compare their performance.\n",
    "-  **Evaluation**: create a dataframe with rows indicating feature+model and columns indicating Precision, Accuracy and F1-score (using weighted average). Your results should have at least 6 rows (2 feature engineering methods x 3 models). Report best performance with (1) your feature engineering method, and (2) the model you choose. \n",
    "- **Format**: add explainations for each step (you can add markdown cells). At the end of the report, write a summary and answer the following questions: \n",
    "    - What preprocessing steps do you follow?\n",
    "    - How do you select the features from the inputs? \n",
    "    - Which model you use and what is the structure of your model?\n",
    "    - How do you train your model?\n",
    "    - What is the performance of your best model?\n",
    "    - What other models or feature engineering methods would you like to implement in the future?\n",
    "- **Two Rules**, violations will result in 0 points in the grade: \n",
    "    - Not allowed to use test set in the training: You CANNOT use any of the instances from test set in the training process. \n",
    "    - Not allowed to use code from generative AI (e.g., ChatGPT). \n",
    "\n",
    "## Evaluation\n",
    "\n",
    "The performance should be only evaluated on the test set (a total of 1086 instances). Please split original dataset into train set and test set. The test set should NEVER be used in the training process. The evaluation metric is a combination of precision, recall, and f1-score (use `classification_report` in sklearn). \n",
    "\n",
    "The total points are 10.0. Each team will compete with other teams in the class on their best performance. Points will be deducted if not following the requirements above.\n",
    "\n",
    "If ALL the requirements are met:\n",
    "- Top 25\\% teams: 10.0 points.\n",
    "- Top 25\\% - 50\\% teams: 8.5 points.\n",
    "- Top 50\\% - 75\\% teams: 7.0 points.\n",
    "- Top 75\\% - 100\\% teams: 6.0 points.\n",
    "\n",
    "## Submission\n",
    "Similar as homework, submit both a PDF and .ipynb version of the report. \n",
    "\n",
    "The report should include: (a)code, (b)outputs, (c)explainations for each step, and (d)summary (you can add markdown cells). \n",
    "\n",
    "The due date is **December 8, Friday by 11:59pm."
   ]
  },
  {
   "cell_type": "markdown",
   "id": "9745d219-39aa-4bbb-82a9-4c0b767ef9a9",
   "metadata": {},
   "source": [
    "## Imports"
   ]
  },
  {
   "cell_type": "code",
   "execution_count": 1,
   "id": "9b7caf28-1c77-4f87-8a62-7f3a7f79e1c6",
   "metadata": {
    "tags": []
   },
   "outputs": [
    {
     "name": "stderr",
     "output_type": "stream",
     "text": [
      "[nltk_data] Downloading package stopwords to\n",
      "[nltk_data]     C:\\Users\\lukel\\AppData\\Roaming\\nltk_data...\n",
      "[nltk_data]   Package stopwords is already up-to-date!\n",
      "[nltk_data] Downloading package punkt to\n",
      "[nltk_data]     C:\\Users\\lukel\\AppData\\Roaming\\nltk_data...\n",
      "[nltk_data]   Package punkt is already up-to-date!\n"
     ]
    }
   ],
   "source": [
    "from sklearn import datasets\n",
    "from sklearn.model_selection import train_test_split\n",
    "from sklearn.linear_model import LogisticRegression, LogisticRegressionCV\n",
    "from sklearn.pipeline import Pipeline\n",
    "import pandas as pd\n",
    "import matplotlib.pyplot as plt\n",
    "import numpy as np\n",
    "from sklearn.svm import SVC\n",
    "from sklearn.model_selection import cross_val_score\n",
    "import warnings\n",
    "import re\n",
    "import emoji\n",
    "import nltk\n",
    "from nltk.corpus import stopwords\n",
    "from sklearn.feature_extraction.text import TfidfVectorizer\n",
    "from sklearn.preprocessing import LabelEncoder \n",
    "from sklearn.pipeline import Pipeline\n",
    "from sklearn.neighbors import KNeighborsClassifier\n",
    "\n",
    "from sklearn.naive_bayes import MultinomialNB\n",
    "from sklearn.metrics import accuracy_score, classification_report\n",
    "\n",
    "nltk.download('stopwords')\n",
    "stop_words = set(stopwords.words('english'))\n",
    "\n",
    "nltk.download(\"punkt\")\n",
    "\n",
    "from nltk.stem import PorterStemmer\n",
    "from nltk.tokenize import word_tokenize\n",
    "\n",
    "# Suppress warnings\n",
    "warnings.filterwarnings(\"ignore\")"
   ]
  },
  {
   "cell_type": "markdown",
   "id": "e1cf260f-8a6c-42b0-9bd4-2815861c7314",
   "metadata": {
    "tags": []
   },
   "source": [
    "## Read data"
   ]
  },
  {
   "cell_type": "code",
   "execution_count": 2,
   "id": "168a3117-bcc4-4e77-a172-2554db7cbe01",
   "metadata": {
    "tags": []
   },
   "outputs": [],
   "source": [
    "\n",
    "\n",
    "df = pd.read_csv('edos_labelled_data.csv')\n",
    "\n",
    "def remove_emojis(string):\n",
    "    return emoji.replace_emoji(string, replace='')\n",
    "\n",
    "def remove_stop_words(string):\n",
    "    words = filter(None, string.split(' '))\n",
    "    retval = []\n",
    "    for w in words:\n",
    "        if not w in stop_words:\n",
    "            retval.append(w)\n",
    "    return \" \".join(retval)\n",
    "    \n",
    "def to_lower_case(value):\n",
    "    return value.lower()\n",
    "\n",
    "def remove_punctuation(string):\n",
    "    return re.sub(r'[^\\w\\s]', '', string)\n",
    "    \n",
    "def lemmatize(string):\n",
    "    words = word_tokenize(string)\n",
    "    stemmer = PorterStemmer()\n",
    "    return \" \".join([stemmer.stem(word) for word in words])\n",
    "\n",
    "label_encoder = LabelEncoder() \n",
    "df[\"label\"] = label_encoder.fit_transform(df[\"label\"])\n",
    "\n",
    "df['text'] = df['text'].apply(to_lower_case)\n",
    "df['text'] = df['text'].apply(remove_emojis)\n",
    "df['text'] = df['text'].apply(remove_stop_words)\n",
    "df['text'] = df['text'].apply(remove_punctuation)\n",
    "df['text'] = df['text'].apply(lemmatize)"
   ]
  },
  {
   "cell_type": "markdown",
   "id": "41c34859-0635-4c7b-8a66-b12ed174c672",
   "metadata": {},
   "source": [
    "## Split into train and test"
   ]
  },
  {
   "cell_type": "code",
   "execution_count": 13,
   "id": "eee2548e-a7b1-465c-8588-0603b6af9c6f",
   "metadata": {
    "tags": []
   },
   "outputs": [],
   "source": [
    "train = df[df['split'] == \"train\"]\n",
    "test = df[df['split'] == \"test\"]\n",
    "\n",
    "X_train = train[\"text\"]\n",
    "y_train = train[\"label\"]\n",
    "\n",
    "X_test = test[\"text\"]\n",
    "y_test = test[\"label\"]"
   ]
  },
  {
   "cell_type": "markdown",
   "id": "b9a7ea03",
   "metadata": {},
   "source": [
    "## Create the Results DataFrame"
   ]
  },
  {
   "cell_type": "code",
   "execution_count": 105,
   "id": "337cf2c0",
   "metadata": {},
   "outputs": [],
   "source": [
    "columns = ['Feature And Model', 'Precision', 'Accuracy', 'F1-score']\n",
    "results = pd.DataFrame(columns=columns) \n",
    "\n",
    "def add_new_result(results_df, report, model_name, accuracy):\n",
    "    precision = report['weighted avg']['precision']\n",
    "    f1_score = report['weighted avg']['f1-score']\n",
    "    data = {\n",
    "        'Feature And Model': model_name, \n",
    "        'Precision': precision, \n",
    "        'Accuracy': accuracy, \n",
    "        'F1-score': f1_score\n",
    "    }\n",
    "    row_data = pd.DataFrame([data])\n",
    "    results_df = pd.concat([results_df, row_data])\n",
    "    return results_df"
   ]
  },
  {
   "cell_type": "markdown",
   "id": "a4362406-6024-45b8-8594-082d3edd51fe",
   "metadata": {},
   "source": [
    "## Naive Bayes"
   ]
  },
  {
   "cell_type": "code",
   "execution_count": 100,
   "id": "2c78bc58-eda3-4f82-8b18-3d24fb5a69fb",
   "metadata": {
    "tags": []
   },
   "outputs": [],
   "source": [
    "clf = Pipeline([\n",
    "     ('vectorizer_tfidf',TfidfVectorizer()),    \n",
    "     ('naive bayes', MultinomialNB())         \n",
    "])\n",
    "\n",
    "clf.fit(X_train, y_train)\n",
    "\n",
    "nb_predictions = clf.predict(X_test)\n",
    "report = classification_report(y_test, nb_predictions, output_dict=True)\n",
    "accuracy = accuracy_score(y_test, nb_predictions)\n",
    "results = add_new_result(results, report, \"Naive Bayes With TF-IDF\", accuracy) "
   ]
  },
  {
   "cell_type": "markdown",
   "id": "1fed4fa9-1329-409e-a106-7b8e3fb9b2df",
   "metadata": {},
   "source": [
    "## Support Vector machine"
   ]
  },
  {
   "cell_type": "code",
   "execution_count": 101,
   "id": "c593dab4-e816-44c3-befd-8e99c937d737",
   "metadata": {
    "tags": []
   },
   "outputs": [],
   "source": [
    "clf = Pipeline([\n",
    "     ('vectorizer_tfidf',TfidfVectorizer()),    \n",
    "     ('naive bayes', SVC(kernel='linear'))         \n",
    "])\n",
    "\n",
    "clf.fit(X_train, y_train)\n",
    "\n",
    "svm_predictions = clf.predict(X_test)\n",
    "report = classification_report(y_test, svm_predictions, output_dict=True)\n",
    "accuracy = accuracy_score(y_test, svm_predictions)\n",
    "results = add_new_result(results, report, \"Support Vector machine With TF-IDF\", accuracy) "
   ]
  },
  {
   "cell_type": "markdown",
   "id": "d302708c-5e32-46df-ac0e-0d6010d30582",
   "metadata": {},
   "source": [
    "## K Nearest Neighbors"
   ]
  },
  {
   "cell_type": "code",
   "execution_count": 104,
   "id": "b24cf76f",
   "metadata": {},
   "outputs": [
    {
     "name": "stdout",
     "output_type": "stream",
     "text": [
      "              precision    recall  f1-score   support\n",
      "\n",
      "           0       0.75      0.95      0.84       789\n",
      "           1       0.52      0.15      0.24       297\n",
      "\n",
      "    accuracy                           0.73      1086\n",
      "   macro avg       0.63      0.55      0.54      1086\n",
      "weighted avg       0.68      0.73      0.67      1086\n",
      "\n"
     ]
    },
    {
     "data": {
      "text/html": [
       "<div>\n",
       "<style scoped>\n",
       "    .dataframe tbody tr th:only-of-type {\n",
       "        vertical-align: middle;\n",
       "    }\n",
       "\n",
       "    .dataframe tbody tr th {\n",
       "        vertical-align: top;\n",
       "    }\n",
       "\n",
       "    .dataframe thead th {\n",
       "        text-align: right;\n",
       "    }\n",
       "</style>\n",
       "<table border=\"1\" class=\"dataframe\">\n",
       "  <thead>\n",
       "    <tr style=\"text-align: right;\">\n",
       "      <th></th>\n",
       "      <th>Feature And Model</th>\n",
       "      <th>Precision</th>\n",
       "      <th>Accuracy</th>\n",
       "      <th>F1-score</th>\n",
       "    </tr>\n",
       "  </thead>\n",
       "  <tbody>\n",
       "    <tr>\n",
       "      <th>0</th>\n",
       "      <td>Naive Bayes With TF-IDF</td>\n",
       "      <td>0.792938</td>\n",
       "      <td>0.740331</td>\n",
       "      <td>0.644122</td>\n",
       "    </tr>\n",
       "    <tr>\n",
       "      <th>0</th>\n",
       "      <td>Support Vector machine With TF-IDF</td>\n",
       "      <td>0.813795</td>\n",
       "      <td>0.817680</td>\n",
       "      <td>0.799877</td>\n",
       "    </tr>\n",
       "    <tr>\n",
       "      <th>0</th>\n",
       "      <td>K Nearest Neighbors With TF-IDF</td>\n",
       "      <td>0.684964</td>\n",
       "      <td>0.729282</td>\n",
       "      <td>0.672106</td>\n",
       "    </tr>\n",
       "    <tr>\n",
       "      <th>0</th>\n",
       "      <td>K Nearest Neighbors With TF-IDF</td>\n",
       "      <td>0.684964</td>\n",
       "      <td>0.729282</td>\n",
       "      <td>0.672106</td>\n",
       "    </tr>\n",
       "    <tr>\n",
       "      <th>0</th>\n",
       "      <td>K Nearest Neighbors With TF-IDF</td>\n",
       "      <td>0.684964</td>\n",
       "      <td>0.729282</td>\n",
       "      <td>0.672106</td>\n",
       "    </tr>\n",
       "  </tbody>\n",
       "</table>\n",
       "</div>"
      ],
      "text/plain": [
       "                    Feature And Model  Precision  Accuracy  F1-score\n",
       "0             Naive Bayes With TF-IDF   0.792938  0.740331  0.644122\n",
       "0  Support Vector machine With TF-IDF   0.813795  0.817680  0.799877\n",
       "0     K Nearest Neighbors With TF-IDF   0.684964  0.729282  0.672106\n",
       "0     K Nearest Neighbors With TF-IDF   0.684964  0.729282  0.672106\n",
       "0     K Nearest Neighbors With TF-IDF   0.684964  0.729282  0.672106"
      ]
     },
     "execution_count": 104,
     "metadata": {},
     "output_type": "execute_result"
    }
   ],
   "source": [
    "clf = Pipeline([\n",
    "     ('vectorizer_tfidf',TfidfVectorizer()),    \n",
    "     ('knn', KNeighborsClassifier(n_neighbors=3))         \n",
    "])\n",
    "\n",
    "clf.fit(X_train, y_train)\n",
    "\n",
    "knn_predictions = clf.predict(X_test)\n",
    "report = classification_report(y_test, knn_predictions, output_dict=True)\n",
    "accuracy = accuracy_score(y_test, knn_predictions)\n",
    "results = add_new_result(results, report, \"K Nearest Neighbors With TF-IDF\", accuracy) \n",
    "print(classification_report(y_test, knn_predictions))\n",
    "results"
   ]
  },
  {
   "cell_type": "code",
   "execution_count": 7,
   "id": "19e37a81",
   "metadata": {},
   "outputs": [],
   "source": [
    "## Create the Results DataFrame"
   ]
  },
  {
   "cell_type": "code",
   "execution_count": null,
   "id": "1f7b3014",
   "metadata": {},
   "outputs": [],
   "source": [
    "results = {\n",
    "    'Feature And Model': ['Naive Bayes With TF-IDF', 'Naive Bayes With TF-IDF', \n",
    "                          'SVM With TF-IDF', 'SVM With TF-IDF', \n",
    "                          'KNN With TF-IDF', 'KNN With TF-IDF'],\n",
    "    'Precision': [0.74, 0.00, 0.68, 0.00, 0.00, 0.00],\n",
    "    'Accuracy': [0.74, 0.00, 0.68, 0.00, 0.00, 0.00],\n",
    "    'F1-score': [0.85, 0.00, 0.68, 0.00, 0.00, 0.00]\n",
    "    \n",
    "    \n",
    "                  precision    recall  f1-score   support\n",
    "\n",
    "           0       0.74      1.00      0.85       789\n",
    "           1       0.94      0.05      0.10       297\n",
    "\n",
    "    accuracy                           0.74      1086\n",
    "   macro avg       0.84      0.53      0.48      1086\n",
    "weighted avg       0.79      0.74      0.64      1086\n",
    "\n",
    "}"
   ]
  },
  {
   "cell_type": "markdown",
   "id": "7827b394-47a9-4ccc-8ee3-9a9059064cff",
   "metadata": {},
   "source": [
    "#### Summary\n",
    "\n",
    "1. What preprocessing steps do you follow?\n",
    "   \n",
    "   Your answer:\n",
    "   \n",
    "2. How do you select the features from the inputs?\n",
    "   \n",
    "   Your answer:\n",
    "   \n",
    "3. Which model you use and what is the structure of your model?\n",
    "   \n",
    "   Your answer:\n",
    "   \n",
    "4. How do you train your model?\n",
    "   \n",
    "   Your answer:\n",
    "   \n",
    "5. What is the performance of your best model?\n",
    "   \n",
    "   Your answer:\n",
    "   \n",
    "6. What other models or feature engineering methods would you like to implement in the future?\n",
    "   \n",
    "   Your answer:\n",
    "   "
   ]
  },
  {
   "cell_type": "code",
   "execution_count": null,
   "id": "c976b9c4",
   "metadata": {},
   "outputs": [],
   "source": []
  }
 ],
 "metadata": {
  "kernelspec": {
   "display_name": "Python 3 (ipykernel)",
   "language": "python",
   "name": "python3"
  },
  "language_info": {
   "codemirror_mode": {
    "name": "ipython",
    "version": 3
   },
   "file_extension": ".py",
   "mimetype": "text/x-python",
   "name": "python",
   "nbconvert_exporter": "python",
   "pygments_lexer": "ipython3",
   "version": "3.11.4"
  }
 },
 "nbformat": 4,
 "nbformat_minor": 5
}
